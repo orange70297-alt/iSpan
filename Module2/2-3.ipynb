{
 "cells": [
  {
   "cell_type": "markdown",
   "metadata": {},
   "source": [
    "|基本型態|創建方式|\n",
    "|:---:|:---:|\n",
    "| int |num=10  |\n",
    "| float | num=2.5 |\n",
    "| boolean | parse_ok=True |\n",
    "| string | name=Tim |"
   ]
  },
  {
   "cell_type": "markdown",
   "metadata": {},
   "source": [
    "|容器型態|創建方式|\n",
    "|:---:|:---:|\n",
    "|list| num_list=1,2,3,4| |\n",
    "|tuple||\n",
    "|set||\n",
    "|dict||\n"
   ]
  },
  {
   "cell_type": "code",
   "execution_count": null,
   "metadata": {},
   "outputs": [],
   "source": []
  },
  {
   "cell_type": "markdown",
   "metadata": {},
   "source": [
    "整數 (int)、浮點數 (float)"
   ]
  },
  {
   "cell_type": "code",
   "execution_count": 1,
   "metadata": {},
   "outputs": [
    {
     "name": "stdout",
     "output_type": "stream",
     "text": [
      "8\n",
      "1.5\n"
     ]
    }
   ],
   "source": [
    "number1=8\n",
    "number2=1.5\n",
    "print(number1)\n",
    "print(number2)\n"
   ]
  },
  {
   "cell_type": "markdown",
   "metadata": {},
   "source": [
    "布林值 (boolean)"
   ]
  },
  {
   "cell_type": "code",
   "execution_count": 3,
   "metadata": {},
   "outputs": [
    {
     "name": "stdout",
     "output_type": "stream",
     "text": [
      "True\n"
     ]
    }
   ],
   "source": [
    "parse_ok=True\n",
    "print(parse_ok)"
   ]
  },
  {
   "cell_type": "markdown",
   "metadata": {},
   "source": [
    "字串 (string)"
   ]
  },
  {
   "cell_type": "code",
   "execution_count": 6,
   "metadata": {},
   "outputs": [
    {
     "name": "stdout",
     "output_type": "stream",
     "text": [
      "hello\n",
      "John\n"
     ]
    }
   ],
   "source": [
    "message=\"hello\"\n",
    "name=\"John\"\n",
    "print(message)\n",
    "print(name)"
   ]
  },
  {
   "cell_type": "code",
   "execution_count": 9,
   "metadata": {},
   "outputs": [
    {
     "name": "stdout",
     "output_type": "stream",
     "text": [
      "True\n",
      "False\n",
      "<class 'str'>\n",
      "<class 'bool'>\n"
     ]
    }
   ],
   "source": [
    "boss=\"True\"\n",
    "parse_ok=False\n",
    "print(boss)\n",
    "print(parse_ok)\n",
    "\n",
    "print(type(boss))\n",
    "print(type(parse_ok))\n"
   ]
  },
  {
   "cell_type": "markdown",
   "metadata": {},
   "source": [
    "列表 (list)"
   ]
  },
  {
   "cell_type": "code",
   "execution_count": 13,
   "metadata": {},
   "outputs": [
    {
     "name": "stdout",
     "output_type": "stream",
     "text": [
      "[1, 2, 3, 4, 1]\n",
      "<class 'list'>\n"
     ]
    }
   ],
   "source": [
    "num_list=[1,2,3,4,1]\n",
    "print(num_list)\n",
    "print(type(num_list))"
   ]
  },
  {
   "cell_type": "markdown",
   "metadata": {},
   "source": [
    "元組 (tuple)"
   ]
  },
  {
   "cell_type": "code",
   "execution_count": 16,
   "metadata": {},
   "outputs": [
    {
     "name": "stdout",
     "output_type": "stream",
     "text": [
      "(1, 2, 1, 1)\n",
      "<class 'tuple'>\n"
     ]
    }
   ],
   "source": [
    "num_tuple=(1,2,1,1)\n",
    "print(num_tuple)\n",
    "print(type(num_tuple))"
   ]
  },
  {
   "cell_type": "markdown",
   "metadata": {},
   "source": [
    "集合 (set)"
   ]
  },
  {
   "cell_type": "code",
   "execution_count": 18,
   "metadata": {},
   "outputs": [
    {
     "name": "stdout",
     "output_type": "stream",
     "text": [
      "{1, 2, 3}\n",
      "<class 'set'>\n"
     ]
    }
   ],
   "source": [
    "num_set={1,2,3,1}\n",
    "print(num_set)\n",
    "print(type(num_set))"
   ]
  },
  {
   "cell_type": "markdown",
   "metadata": {},
   "source": [
    "字典 (dict)"
   ]
  },
  {
   "cell_type": "code",
   "execution_count": 27,
   "metadata": {},
   "outputs": [
    {
     "name": "stdout",
     "output_type": "stream",
     "text": [
      "{'name': 'Tim', 'age': 29}\n",
      "<class 'dict'>\n"
     ]
    }
   ],
   "source": [
    "user_info={\"name\":\"Tim\",\"age\":29}\n",
    "print(user_info)\n",
    "print(type(user_info))"
   ]
  },
  {
   "cell_type": "code",
   "execution_count": 25,
   "metadata": {},
   "outputs": [
    {
     "name": "stdout",
     "output_type": "stream",
     "text": [
      "{}\n",
      "<class 'dict'>\n"
     ]
    }
   ],
   "source": [
    "# 創建一個空的 dict\n",
    "data_list={}\n",
    "print(data_list)\n",
    "print(type(data_list))\n"
   ]
  },
  {
   "cell_type": "code",
   "execution_count": 26,
   "metadata": {},
   "outputs": [
    {
     "name": "stdout",
     "output_type": "stream",
     "text": [
      "set()\n"
     ]
    }
   ],
   "source": [
    "# 創建一個空的 set\n",
    "empty_set=set()\n",
    "print(empty_set)\n"
   ]
  }
 ],
 "metadata": {
  "kernelspec": {
   "display_name": "Python 3",
   "language": "python",
   "name": "python3"
  },
  "language_info": {
   "codemirror_mode": {
    "name": "ipython",
    "version": 3
   },
   "file_extension": ".py",
   "mimetype": "text/x-python",
   "name": "python",
   "nbconvert_exporter": "python",
   "pygments_lexer": "ipython3",
   "version": "3.14.0"
  }
 },
 "nbformat": 4,
 "nbformat_minor": 2
}
